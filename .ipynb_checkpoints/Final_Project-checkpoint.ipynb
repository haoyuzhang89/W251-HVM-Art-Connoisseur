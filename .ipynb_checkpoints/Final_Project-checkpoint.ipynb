{
 "cells": [
  {
   "cell_type": "code",
   "execution_count": 1,
   "id": "deluxe-paragraph",
   "metadata": {},
   "outputs": [
    {
     "name": "stderr",
     "output_type": "stream",
     "text": [
      "Using TensorFlow backend.\n"
     ]
    }
   ],
   "source": [
    "import pandas as pd\n",
    "import numpy as np \n",
    "import os\n",
    "from urllib.request import urlopen,urlretrieve\n",
    "from PIL import Image\n",
    "from sklearn.utils import shuffle\n",
    "import cv2\n",
    "from keras.utils import to_categorical\n",
    "\n",
    "from keras.models import load_model\n",
    "from sklearn.datasets import load_files   \n",
    "from keras.utils import np_utils\n",
    "from keras import applications\n",
    "from keras.preprocessing.image import ImageDataGenerator \n",
    "from keras import optimizers\n",
    "from keras.models import Sequential,Model,load_model\n",
    "from keras.layers import Dense, Dropout, Flatten, Conv2D, MaxPool2D,GlobalAveragePooling2D\n",
    "from keras.callbacks import TensorBoard,ReduceLROnPlateau,ModelCheckpoint"
   ]
  },
  {
   "cell_type": "code",
   "execution_count": 2,
   "id": "identical-century",
   "metadata": {},
   "outputs": [],
   "source": [
    "X_train_orig = np.load('train_data.npy')\n",
    "Y_train_orig = to_categorical(np.load('train_labels.npy'))"
   ]
  },
  {
   "cell_type": "code",
   "execution_count": 3,
   "id": "hundred-tobacco",
   "metadata": {},
   "outputs": [],
   "source": [
    "X_train_orig_reshape = np.load('train_data_reshape.npy')\n",
    "Y_train_orig_reshape = to_categorical(np.load('train_labels_reshape.npy'))"
   ]
  },
  {
   "cell_type": "code",
   "execution_count": 4,
   "id": "promotional-tournament",
   "metadata": {},
   "outputs": [
    {
     "name": "stdout",
     "output_type": "stream",
     "text": [
      "number of training examples = 8446\n",
      "X_train shape: (8446, 256, 256, 3)\n",
      "Y_train shape: (8446, 50)\n"
     ]
    }
   ],
   "source": [
    "#X_train_orig, Y_train_orig, X_test_orig, Y_test_orig, classes\n",
    "\n",
    "# Normalize image vectors\n",
    "X_train = X_train_orig/255.\n",
    "#X_test = X_test_orig/255.\n",
    "\n",
    "# Convert training and test labels to one hot matrices\n",
    "Y_train = Y_train_orig\n",
    "#Y_test = convert_to_one_hot(Y_test_orig, 6).T\n",
    "\n",
    "print (\"number of training examples = \" + str(X_train.shape[0]))\n",
    "#print (\"number of test examples = \" + str(X_test.shape[0]))\n",
    "print (\"X_train shape: \" + str(X_train.shape))\n",
    "print (\"Y_train shape: \" + str(Y_train.shape))\n",
    "#print (\"X_test shape: \" + str(X_test.shape))\n",
    "#print (\"Y_test shape: \" + str(Y_test.shape))"
   ]
  },
  {
   "cell_type": "code",
   "execution_count": 5,
   "id": "broken-humor",
   "metadata": {},
   "outputs": [
    {
     "name": "stdout",
     "output_type": "stream",
     "text": [
      "number of training examples = 8446\n",
      "X_train_reshape shape: (8446, 256, 256, 3)\n",
      "Y_train_reshape shape: (8446, 50)\n"
     ]
    }
   ],
   "source": [
    "#X_train_orig_reshape, Y_train_orig_reshape, X_test_orig_reshape, Y_test_orig_reshape, classes\n",
    "\n",
    "# Normalize image vectors\n",
    "X_train_reshape = X_train_orig_reshape/255.\n",
    "#X_test_reshape = X_test_orig_reshape/255.\n",
    "\n",
    "# Convert training and test labels to one hot matrices\n",
    "Y_train_reshape = Y_train_orig_reshape\n",
    "#Y_test_reshape = convert_to_one_hot(Y_test_orig_reshape, 6).T\n",
    "\n",
    "print (\"number of training examples = \" + str(X_train_reshape.shape[0]))\n",
    "#print (\"number of test examples = \" + str(X_test_reshape.shape[0]))\n",
    "print (\"X_train_reshape shape: \" + str(X_train_reshape.shape))\n",
    "print (\"Y_train_reshape shape: \" + str(Y_train_reshape.shape))\n",
    "#print (\"X_test_reshape shape: \" + str(X_test_reshape.shape))\n",
    "#print (\"Y_test_reshape shape: \" + str(Y_test_reshape.shape))"
   ]
  },
  {
   "cell_type": "code",
   "execution_count": 6,
   "id": "international-thread",
   "metadata": {},
   "outputs": [
    {
     "name": "stderr",
     "output_type": "stream",
     "text": [
      "/home/ubuntu/anaconda3/envs/tensorflow2_p36/lib/python3.6/site-packages/keras_applications/resnet50.py:265: UserWarning: The output shape of `ResNet50(include_top=False)` has been changed since Keras 2.2.0.\n",
      "  warnings.warn('The output shape of `ResNet50(include_top=False)` '\n"
     ]
    }
   ],
   "source": [
    "img_height,img_width = 256, 256 \n",
    "num_classes = 50\n",
    "#If imagenet weights are being loaded, \n",
    "#input must have a static square shape (one of (128, 128), (160, 160), (192, 192), or (224, 224))\n",
    "base_model = applications.resnet50.ResNet50(weights= None, include_top=False, input_shape= (img_height,img_width,3))"
   ]
  },
  {
   "cell_type": "code",
   "execution_count": 8,
   "id": "sporting-india",
   "metadata": {},
   "outputs": [],
   "source": [
    "x = base_model.output\n",
    "x = GlobalAveragePooling2D()(x)\n",
    "x = Dropout(0.2)(x)\n",
    "predictions = Dense(num_classes, activation= 'softmax')(x)\n",
    "model = Model(inputs = base_model.input, outputs = predictions)"
   ]
  },
  {
   "cell_type": "code",
   "execution_count": 9,
   "id": "inappropriate-tulsa",
   "metadata": {},
   "outputs": [],
   "source": [
    "from keras.optimizers import SGD, Adam\n",
    "# sgd = SGD(lr=lrate, momentum=0.9, decay=decay, nesterov=False)\n",
    "adam = Adam(lr=0.0001)\n",
    "model.compile(optimizer= adam, loss='categorical_crossentropy', metrics=['accuracy'])"
   ]
  },
  {
   "cell_type": "code",
   "execution_count": null,
   "id": "british-madison",
   "metadata": {},
   "outputs": [
    {
     "name": "stdout",
     "output_type": "stream",
     "text": [
      "Epoch 1/100\n"
     ]
    }
   ],
   "source": [
    "model.fit(X_train, Y_train, epochs = 100, batch_size = 64)"
   ]
  },
  {
   "cell_type": "code",
   "execution_count": null,
   "id": "occupational-turning",
   "metadata": {},
   "outputs": [],
   "source": [
    "model.fit(X_train_reshape, Y_train_reshape, epochs = 100, batch_size = 64)"
   ]
  }
 ],
 "metadata": {
  "kernelspec": {
   "display_name": "Python 3",
   "language": "python",
   "name": "python3"
  },
  "language_info": {
   "codemirror_mode": {
    "name": "ipython",
    "version": 3
   },
   "file_extension": ".py",
   "mimetype": "text/x-python",
   "name": "python",
   "nbconvert_exporter": "python",
   "pygments_lexer": "ipython3",
   "version": "3.6.13"
  }
 },
 "nbformat": 4,
 "nbformat_minor": 5
}
